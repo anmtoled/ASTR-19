{
 "cells": [
  {
   "cell_type": "code",
   "execution_count": 12,
   "id": "44bd7be7-e0ff-477d-8e0c-e1f7334e953b",
   "metadata": {},
   "outputs": [],
   "source": [
    "import numpy as np"
   ]
  },
  {
   "cell_type": "markdown",
   "id": "ea220bde-b66f-4ce7-ba96-5efcb516163d",
   "metadata": {},
   "source": [
    "Define function that will return sin(x)"
   ]
  },
  {
   "cell_type": "code",
   "execution_count": 13,
   "id": "15a79bb3-0297-4101-8067-d502951a73b1",
   "metadata": {},
   "outputs": [],
   "source": [
    "def sincalc(x):\n",
    "    return (np.sin(x))"
   ]
  },
  {
   "cell_type": "code",
   "execution_count": 14,
   "id": "5ff3e426-65c3-4a6d-83bd-82c5afb28e68",
   "metadata": {},
   "outputs": [],
   "source": [
    "def coscalc(x):\n",
    "    return (np.cos(x))"
   ]
  },
  {
   "cell_type": "markdown",
   "id": "bd984231-d764-4c91-8ed5-27c1ef666331",
   "metadata": {},
   "source": [
    "b is a created array with a thousand entries between 0 and 2pi.\n",
    "<br>c is a copy of array b that has been updated to now be sin(b)\n",
    "<br>d is a copy of array b that has been updated to now be cos(b)\n",
    "<br>z is arrays b,c, and d all placed together and stacked, so it is one element per array per row."
   ]
  },
  {
   "cell_type": "code",
   "execution_count": 15,
   "id": "bc3bb756-a206-415b-89f9-58a2f7776e26",
   "metadata": {},
   "outputs": [],
   "source": [
    "b=np.linspace(0,2*np.pi, 100)\n",
    "\n",
    "c = np.array(sincalc(b))\n",
    "\n",
    "d=np.array(coscalc(b))\n",
    "\n",
    "z=np.stack((b,c,d), axis=1)"
   ]
  },
  {
   "cell_type": "markdown",
   "id": "0f9025d8-26f7-45a3-8a32-2426c8eae540",
   "metadata": {},
   "source": [
    "Now print out the first 10 rows of array z, using a for loop."
   ]
  },
  {
   "cell_type": "code",
   "execution_count": 16,
   "id": "a5047d95-24d6-4787-9b30-3ec57e1147e5",
   "metadata": {},
   "outputs": [
    {
     "name": "stdout",
     "output_type": "stream",
     "text": [
      "[0. 0. 1.]\n",
      "[0.06346652 0.06342392 0.99798668]\n",
      "[0.12693304 0.12659245 0.99195481]\n",
      "[0.19039955 0.18925124 0.9819287 ]\n",
      "[0.25386607 0.25114799 0.9679487 ]\n",
      "[0.31733259 0.31203345 0.95007112]\n",
      "[0.38079911 0.37166246 0.92836793]\n",
      "[0.44426563 0.42979491 0.90292654]\n",
      "[0.50773215 0.48619674 0.87384938]\n",
      "[0.57119866 0.54064082 0.84125353]\n"
     ]
    }
   ],
   "source": [
    "for j in range(0,10):\n",
    "    print(z[j, :])\n",
    "    "
   ]
  }
 ],
 "metadata": {
  "kernelspec": {
   "display_name": "Python 3 (ipykernel)",
   "language": "python",
   "name": "python3"
  },
  "language_info": {
   "codemirror_mode": {
    "name": "ipython",
    "version": 3
   },
   "file_extension": ".py",
   "mimetype": "text/x-python",
   "name": "python",
   "nbconvert_exporter": "python",
   "pygments_lexer": "ipython3",
   "version": "3.11.5"
  }
 },
 "nbformat": 4,
 "nbformat_minor": 5
}
