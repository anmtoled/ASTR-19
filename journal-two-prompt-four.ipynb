{
 "cells": [
  {
   "cell_type": "code",
   "execution_count": 1,
   "id": "865d507c-7021-4ecc-9a31-423a81ae9b52",
   "metadata": {},
   "outputs": [],
   "source": [
    "import matplotlib.pyplot as plt\n",
    "import numpy as np"
   ]
  },
  {
   "cell_type": "code",
   "execution_count": 11,
   "id": "271ceecc-120a-4bec-bf6e-9ce2bf01bf5d",
   "metadata": {},
   "outputs": [],
   "source": [
    "#pull 1000 numbers from the chisquare distribution\n",
    "x = np.random.chisquare(10,1000)"
   ]
  },
  {
   "cell_type": "code",
   "execution_count": 13,
   "id": "46f48d8a-ce69-43a0-be24-6529392c520a",
   "metadata": {},
   "outputs": [],
   "source": [
    "#histogram the random nums into 100 bins, and plot.\n",
    "#label and save\n"
   ]
  }
 ],
 "metadata": {
  "kernelspec": {
   "display_name": "Python 3 (ipykernel)",
   "language": "python",
   "name": "python3"
  },
  "language_info": {
   "codemirror_mode": {
    "name": "ipython",
    "version": 3
   },
   "file_extension": ".py",
   "mimetype": "text/x-python",
   "name": "python",
   "nbconvert_exporter": "python",
   "pygments_lexer": "ipython3",
   "version": "3.11.5"
  }
 },
 "nbformat": 4,
 "nbformat_minor": 5
}
